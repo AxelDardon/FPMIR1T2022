{
 "cells": [
  {
   "cell_type": "markdown",
   "metadata": {},
   "source": [
    "# Track1 - Ejercicio 1  "
   ]
  },
  {
   "cell_type": "code",
   "execution_count": 3,
   "metadata": {},
   "outputs": [
    {
     "name": "stdout",
     "output_type": "stream",
     "text": [
      "C es consonante\n"
     ]
    }
   ],
   "source": [
    "Vocales=\"AEIOUaeiou\"\n",
    "Entrada = input(\"Por favor ingrese una letra:\")\n",
    "x=Vocales.find(Entrada)\n",
    "if x>=0:\n",
    "    print(\"el caracter {0} es vocal\".format(Entrada))\n",
    "else:\n",
    "    print(\"el caracter {0} es consonante\".format(Entrada))\n"
   ]
  },
  {
   "cell_type": "markdown",
   "metadata": {},
   "source": [
    "# Track1 - Ejercicio 2"
   ]
  },
  {
   "cell_type": "code",
   "execution_count": null,
   "metadata": {},
   "outputs": [],
   "source": [
    "N1=input(\"Ingrese Numero 1:\")\n",
    "N2=input(\"Ingrese Numero 2:\")\n",
    "N3=input(\"Ingrese Numero 3:\")\n",
    "if N1==N2==N3:\n",
    "    print(\"Triangulo equilatero\")\n",
    "elif N1==N2 or N2==N3 or N1==N3:\n",
    "    print(\"Triangulo Isoceles\")\n",
    "else:\n",
    "    print(\"Triangulo Escaleno\")"
   ]
  },
  {
   "cell_type": "markdown",
   "metadata": {},
   "source": [
    "# Track1 - Ejercicio 3"
   ]
  },
  {
   "cell_type": "code",
   "execution_count": 5,
   "metadata": {},
   "outputs": [
    {
     "name": "stdout",
     "output_type": "stream",
     "text": [
      "El estudiante aprobó con una nota de 66\n"
     ]
    }
   ],
   "source": [
    "NotaAlumno=int(input(\"Ingrese Nota:\"))\n",
    "print(\"El estudiante aprobó con una nota de \" + str(NotaAlumno) if NotaAlumno>=65 else \"El estudiante reprobó con una nota de \" + str(NotaAlumno))"
   ]
  },
  {
   "cell_type": "markdown",
   "metadata": {},
   "source": [
    "# Track 1 - Ejercicio 4"
   ]
  },
  {
   "cell_type": "code",
   "execution_count": 4,
   "metadata": {},
   "outputs": [
    {
     "name": "stdout",
     "output_type": "stream",
     "text": [
      "el mes 3 es Marzo\n"
     ]
    }
   ],
   "source": [
    "def DemeMes(ElMes):\n",
    "    UnMes = {\n",
    "        1: \"Enero\",\n",
    "        2: \"Febrero\",\n",
    "        3: \"Marzo\",\n",
    "        4: \"Abril\",\n",
    "        5: \"Mayo\",\n",
    "        6: \"Junio\",\n",
    "        7: \"Julio\",\n",
    "        8: \"Agosto\",\n",
    "        9: \"Septiembre\",\n",
    "        10: \"Octubre\",\n",
    "        11: \"Noviembre\",\n",
    "        12: \"Diciembre\"\n",
    "    }\n",
    "    return UnMes.get(ElMes, \"\")\n",
    "x=int(input(\"Ingrese Mes en numero:\"))\n",
    "y=DemeMes(x)\n",
    "if y!=\"\":\n",
    "    print(\"el mes {0} es {1}\".format(x,y))\n",
    "else:\n",
    "    print(\"El número no corresponde a un mes valido\")\n"
   ]
  },
  {
   "cell_type": "markdown",
   "metadata": {},
   "source": [
    "# Track1 - Ejercicio 5"
   ]
  },
  {
   "cell_type": "code",
   "execution_count": 16,
   "metadata": {},
   "outputs": [
    {
     "name": "stdout",
     "output_type": "stream",
     "text": [
      "El año ingresado es anterior al calendario gregoriano\n"
     ]
    }
   ],
   "source": [
    "AñoIngresado = int(input(\"Ingrese Año:\"))\n",
    "if AñoIngresado<1582:\n",
    "    print(\"El año ingresado es anterior al calendario gregoriano\")\n",
    "else:\n",
    "    if AñoIngresado % 4 == 0:\n",
    "        if ((AñoIngresado % 100 == 0) and (AñoIngresado % 400 == 0)):\n",
    "           print(\"El año {0} es bisiesto\".format(AñoIngresado))\n",
    "        else:\n",
    "           print(\"El año {0} no es bisiesto\".format(AñoIngresado))\n",
    "    else:\n",
    "        print(\"El año {0} no es bisiesto\".format(AñoIngresado))"
   ]
  },
  {
   "cell_type": "markdown",
   "metadata": {},
   "source": [
    "# Track2 - Ejercicio 1"
   ]
  },
  {
   "cell_type": "code",
   "execution_count": 18,
   "metadata": {},
   "outputs": [
    {
     "name": "stdout",
     "output_type": "stream",
     "text": [
      "3,2,1\n",
      "2,1\n",
      "1\n"
     ]
    }
   ],
   "source": [
    "Num1 = int(input(\"Ingrese Número:\"))\n",
    "x=Num1\n",
    "while x>=1:\n",
    "    j=x\n",
    "    while j>=1:\n",
    "        if j==1:\n",
    "            print(j)\n",
    "        else:\n",
    "            print(j,end=\",\")\n",
    "        j-=1\n",
    "    x-=1\n"
   ]
  },
  {
   "cell_type": "markdown",
   "metadata": {},
   "source": [
    "# Track2 - Ejercicio 2"
   ]
  },
  {
   "cell_type": "code",
   "execution_count": 34,
   "metadata": {},
   "outputs": [
    {
     "name": "stdout",
     "output_type": "stream",
     "text": [
      "432\n",
      "4321"
     ]
    }
   ],
   "source": [
    "Num1=int(input(\"Ingrese Num1:\"))\n",
    "elnum=str(Num1)\n",
    "x=len(elnum)\n",
    "for i in range(x-1,-1,-1):\n",
    "   print(elnum[i],end=\"\")"
   ]
  },
  {
   "cell_type": "markdown",
   "metadata": {},
   "source": [
    "# Track2 - Ejercicio 3"
   ]
  },
  {
   "cell_type": "code",
   "execution_count": 38,
   "metadata": {},
   "outputs": [
    {
     "name": "stdout",
     "output_type": "stream",
     "text": [
      "3 + 33 + 333 + 3333 + 33333\n",
      "37035\n"
     ]
    }
   ],
   "source": [
    "Num1=int(input(\"Ingrese Num1:\"))\n",
    "i=1\n",
    "x=0\n",
    "while i<=Num1:   \n",
    "    s1=\"\"\n",
    "    j=1\n",
    "    while j<=i:\n",
    "         s1=s1+\"3\"\n",
    "         j+=1\n",
    "    if i==Num1:\n",
    "        print(s1)\n",
    "    else:\n",
    "        print(s1,end=\" + \")\n",
    "    x=x+int(s1)\n",
    "    i+=1\n",
    "print(x)"
   ]
  },
  {
   "cell_type": "markdown",
   "metadata": {},
   "source": [
    "# Track2 - Ejercicio 4"
   ]
  },
  {
   "cell_type": "code",
   "execution_count": 42,
   "metadata": {},
   "outputs": [
    {
     "name": "stdout",
     "output_type": "stream",
     "text": [
      "*\n",
      "**\n",
      "***\n",
      "****\n",
      "*****\n",
      "****\n",
      "***\n",
      "**\n",
      "*\n"
     ]
    }
   ],
   "source": [
    "i=1\n",
    "s1=\"*****\"\n",
    "while i<=5:\n",
    "    print(s1[:i])   \n",
    "    i+=1\n",
    "i=4\n",
    "s1=\"****\"\n",
    "while i>=1:\n",
    "    print(s1[:i])   \n",
    "    i-=1\n"
   ]
  },
  {
   "cell_type": "markdown",
   "metadata": {},
   "source": [
    "# Track2 - Ejercicio 5"
   ]
  },
  {
   "cell_type": "code",
   "execution_count": 54,
   "metadata": {},
   "outputs": [
    {
     "name": "stdout",
     "output_type": "stream",
     "text": [
      "20,40,60,80,100\n",
      "10,30,50,70,90\n"
     ]
    }
   ],
   "source": [
    "ListaNumeros=[10, 20, 30, 40, 50, 60, 70, 80, 90, 100]\n",
    "for i in range(1,10,2):\n",
    "    print(ListaNumeros[i],end=\",\" if i!=9 else \"\")\n",
    "print(\"\")\n",
    "for i in range(0,10,2):\n",
    "    print(ListaNumeros[i],end=\",\" if i!=8 else \"\")\n",
    "print(\"\")"
   ]
  },
  {
   "cell_type": "markdown",
   "metadata": {},
   "source": [
    "# Track2 - Ejercicio 6"
   ]
  },
  {
   "cell_type": "code",
   "execution_count": 55,
   "metadata": {},
   "outputs": [
    {
     "name": "stdout",
     "output_type": "stream",
     "text": [
      "aloh"
     ]
    }
   ],
   "source": [
    "Cadena=input(\"Ingrese Cadena:\")\n",
    "x=len(Cadena)\n",
    "for i in range(x-1,-1,-1):\n",
    "   print(Cadena[i],end=\"\")"
   ]
  },
  {
   "cell_type": "markdown",
   "metadata": {},
   "source": [
    "# Track2 - Ejercicio 7"
   ]
  },
  {
   "cell_type": "code",
   "execution_count": 59,
   "metadata": {},
   "outputs": [
    {
     "name": "stdout",
     "output_type": "stream",
     "text": [
      "FEDCBA\n"
     ]
    }
   ],
   "source": [
    "def Vuelta(Texto):\n",
    "    x=len(Texto)-1  \n",
    "    if x==0:\n",
    "        return Texto[x]   \n",
    "    else:\n",
    "        return Texto[x] + Vuelta(Texto[:x])\n",
    "st=input(\"Ingrese Cadena:\")\n",
    "print(Vuelta(st))"
   ]
  },
  {
   "cell_type": "markdown",
   "metadata": {},
   "source": [
    "# Track Problemas Python - Problema 1"
   ]
  },
  {
   "cell_type": "code",
   "execution_count": 3,
   "metadata": {},
   "outputs": [
    {
     "name": "stdout",
     "output_type": "stream",
     "text": [
      "Menú Principal\n",
      "\n",
      "1) Imprima el día y la hora actual\n",
      "2) Abra el sitio www.github.com en una ventana del navegador\n",
      "3) Guardar Archivo.txt\n",
      "4) Salir del programa\n",
      "\n",
      "Menú Principal\n",
      "\n",
      "1) Imprima el día y la hora actual\n",
      "2) Abra el sitio www.github.com en una ventana del navegador\n",
      "3) Guardar Archivo.txt\n",
      "4) Salir del programa\n",
      "\n",
      "El usuario salio del programa\n"
     ]
    }
   ],
   "source": [
    "import os\n",
    "from time import sleep\n",
    "def CS():\n",
    "    if(os.name =='nt'):\n",
    "        os.system('cls')\n",
    "    else:\n",
    "        os.system('clear')\n",
    "\n",
    "LasOpciones = {\n",
    "    1: 1,\n",
    "    2: 2,\n",
    "    3: 3,\n",
    "    4: 4\n",
    "}\n",
    "SeSale = False\n",
    "UnaOpcion=0\n",
    "while not SeSale:\n",
    "    CS()\n",
    "    print(\"Menú Principal\")\n",
    "    print(\"\")\n",
    "    print(\"1) Imprima el día y la hora actual\")\n",
    "    print(\"2) Abra el sitio www.github.com en una ventana del navegador\")\n",
    "    print(\"3) Guardar Archivo.txt\")\n",
    "    print(\"4) Salir del programa\")\n",
    "    print(\"\")\n",
    "    UnaOpcion=int(input(\"Ingrese una opción:\"))\n",
    "    QueEligio = LasOpciones.get(UnaOpcion,0)\n",
    "    if QueEligio==0:\n",
    "        print(\"La opción seleccionada no es válida, por favor, revise su selección\")\n",
    "        sleep(5)\n",
    "    elif QueEligio==4:\n",
    "        SeSale=True\n",
    "print(\"El usuario salio del programa\")\n"
   ]
  },
  {
   "cell_type": "markdown",
   "metadata": {},
   "source": [
    "# Track Problemas - Problema 2"
   ]
  },
  {
   "cell_type": "code",
   "execution_count": 24,
   "metadata": {},
   "outputs": [
    {
     "name": "stdout",
     "output_type": "stream",
     "text": [
      "Menú Principal\n",
      "\n",
      "1) Imprima el día y la hora actual\n",
      "2) Abra el sitio www.github.com en una ventana del navegador\n",
      "3) Guardar Archivo.txt\n",
      "4) Salir del programa\n",
      "\n",
      "Menú Principal\n",
      "\n",
      "1) Imprima el día y la hora actual\n",
      "2) Abra el sitio www.github.com en una ventana del navegador\n",
      "3) Guardar Archivo.txt\n",
      "4) Salir del programa\n",
      "\n",
      "El usuario salio del programa\n"
     ]
    }
   ],
   "source": [
    "import os\n",
    "from time import sleep\n",
    "from Opcion1 import Opcion1\n",
    "from Opcion2 import Opcion2\n",
    "from Opcion3 import Opcion3\n",
    "def CS():\n",
    "    if(os.name =='nt'):\n",
    "        os.system('cls')\n",
    "    else:\n",
    "        os.system('clear')\n",
    "LasOpciones = {\n",
    "    1: 1,\n",
    "    2: 2,\n",
    "    3: 3\n",
    "}\n",
    "SeSale = False\n",
    "UnaOpcion=0\n",
    "while not SeSale:\n",
    "    PudoHacerlo=False\n",
    "    ElError = \"\"\n",
    "    CS()\n",
    "    print(\"Menú Principal\")\n",
    "    print(\"\")\n",
    "    print(\"1) Imprima el día y la hora actual\")\n",
    "    print(\"2) Abra el sitio www.github.com en una ventana del navegador\")\n",
    "    print(\"3) Guardar Archivo.txt\")\n",
    "    print(\"4) Salir del programa\")\n",
    "    print(\"\")\n",
    "    UnaOpcion=int(input(\"Ingrese una opción:\"))\n",
    "    QueEligio = LasOpciones.get(UnaOpcion,\"\")\n",
    "    if UnaOpcion==4:\n",
    "        SeSale=True\n",
    "    elif QueEligio==\"\":\n",
    "        print(\"La opción seleccionada no es válida, por favor, revise su selección\")\n",
    "        sleep(5)\n",
    "    elif QueEligio == 1:\n",
    "        PudoHacerlo,QueError=Opcion1()\n",
    "        if PudoHacerlo:\n",
    "            sleep(10)\n",
    "    elif QueEligio == 2:\n",
    "        PudoHacerlo,QueError=Opcion2()        \n",
    "    elif QueEligio == 3:\n",
    "        PudoHacerlo,QueError=Opcion3()\n",
    "        if PudoHacerlo:\n",
    "            sleep(10)\n",
    "    if ElError!=\"\":\n",
    "        print(ElError)\n",
    "        sleep(10)\n",
    "print(\"El usuario salio del programa\")"
   ]
  },
  {
   "cell_type": "markdown",
   "metadata": {},
   "source": [
    "\n"
   ]
  },
  {
   "cell_type": "code",
   "execution_count": null,
   "metadata": {},
   "outputs": [],
   "source": []
  },
  {
   "cell_type": "code",
   "execution_count": null,
   "metadata": {},
   "outputs": [],
   "source": []
  }
 ],
 "metadata": {
  "interpreter": {
   "hash": "d6d26c4a8cda67e52767f479a94914ecbf8860f1cd77e1ec7bc49812f9677b27"
  },
  "kernelspec": {
   "display_name": "Python 3.10.2 64-bit",
   "language": "python",
   "name": "python3"
  },
  "language_info": {
   "codemirror_mode": {
    "name": "ipython",
    "version": 3
   },
   "file_extension": ".py",
   "mimetype": "text/x-python",
   "name": "python",
   "nbconvert_exporter": "python",
   "pygments_lexer": "ipython3",
   "version": "3.10.2"
  },
  "orig_nbformat": 4
 },
 "nbformat": 4,
 "nbformat_minor": 2
}
