{
 "cells": [
  {
   "cell_type": "markdown",
   "metadata": {},
   "source": [
    "# Ejercicios Semana 2"
   ]
  },
  {
   "cell_type": "markdown",
   "metadata": {},
   "source": [
    "### Ejercicio 1 - Hola nombre persona y fecha"
   ]
  },
  {
   "cell_type": "code",
   "execution_count": 1,
   "metadata": {},
   "outputs": [
    {
     "name": "stdout",
     "output_type": "stream",
     "text": [
      "Hola, te envio un saludo Stanly en la fecha: 2022-02-03\n"
     ]
    }
   ],
   "source": [
    "from datetime import datetime\n",
    "\n",
    "NombrePersona = input(\"Porfavor ingrese su nombre:\")\n",
    "\n",
    "print(\"Hola, te envio un saludo\",NombrePersona,\"en la fecha:\",datetime.today().strftime(\"%Y-%m-%d\"))"
   ]
  },
  {
   "cell_type": "markdown",
   "metadata": {},
   "source": [
    "### Ejercicio - 2 - Asignación, intercambio e eliminación de variables"
   ]
  },
  {
   "cell_type": "code",
   "execution_count": 3,
   "metadata": {},
   "outputs": [
    {
     "name": "stdout",
     "output_type": "stream",
     "text": [
      "3\n",
      "3 3 3\n",
      "9\n",
      "9 3\n",
      "3\n"
     ]
    }
   ],
   "source": [
    "numero=int(input(\"Ingrese su numero:\"))\n",
    "#a=numero\n",
    "#b=numero\n",
    "#c=numero\n",
    "print(numero)\n",
    "a=b=c=numero\n",
    "print(a,b,c)\n",
    "b=b**2\n",
    "print(b)\n",
    "a,b=b,a\n",
    "print(a,b)\n",
    "print(c)\n",
    "del c\n"
   ]
  },
  {
   "cell_type": "markdown",
   "metadata": {},
   "source": [
    "### Ejercicio 3 - Tipos de datos"
   ]
  },
  {
   "cell_type": "code",
   "execution_count": 7,
   "metadata": {},
   "outputs": [
    {
     "name": "stdout",
     "output_type": "stream",
     "text": [
      "<class 'int'>\n",
      "<class 'str'>\n",
      "<class 'float'>\n",
      "{'Nombre': 'Stanly', 'Edad': 35, 'Fecha de Nacimiento': '06/02/1986'}\n"
     ]
    }
   ],
   "source": [
    "entero=int(input(\"ingrese un entero:\"))\n",
    "string=input(\"ingrese un string:\")\n",
    "numerofloat=float(input(\"ingrese un numero decimal\"))\n",
    "print(type(entero))\n",
    "print(type(string))\n",
    "print(type(numerofloat))\n",
    "\n",
    "diccionario=dict({\"Nombre\":\"Stanly\",\"Edad\":35,\"Fecha de Nacimiento\":\"06/02/1986\"})\n",
    "print(diccionario)"
   ]
  },
  {
   "cell_type": "markdown",
   "metadata": {},
   "source": [
    "### Ejercicio 4 - Librerias"
   ]
  },
  {
   "cell_type": "code",
   "execution_count": 9,
   "metadata": {},
   "outputs": [
    {
     "name": "stdout",
     "output_type": "stream",
     "text": [
      "4.0\n"
     ]
    }
   ],
   "source": [
    "from math import sqrt as raizcuadrada\n",
    "#import pandas as pd\n",
    "\n",
    "#pd.array()\n",
    "\n",
    "num=int(input(\"Ingrese su numero:\"))\n",
    "print(raizcuadrada(num))"
   ]
  },
  {
   "cell_type": "markdown",
   "metadata": {},
   "source": [
    "### Ejercicio 5 - Mi primera funcion"
   ]
  },
  {
   "cell_type": "code",
   "execution_count": 11,
   "metadata": {},
   "outputs": [
    {
     "name": "stdout",
     "output_type": "stream",
     "text": [
      "Suma: 5\n",
      "Resta: -1\n",
      "Multiplicacion: 6\n",
      "Division 0.6666666666666666\n"
     ]
    }
   ],
   "source": [
    "num1,num2=input(\"ingrese dos numeros separados por coma:\").split(\",\")\n",
    "num1=int(num1)\n",
    "num2=int(num2)\n",
    "\n",
    "def OperacionesMatematicas(num1,num2):\n",
    "    print(\"Suma:\",(num1+num2))\n",
    "    print(\"Resta:\",(num1-num2))\n",
    "    print(\"Multiplicacion:\",(num1*num2))\n",
    "    print(\"Division\",(num1/num2))\n",
    "\n",
    "OperacionesMatematicas(num1,num2)"
   ]
  }
 ],
 "metadata": {
  "interpreter": {
   "hash": "7be441ddcb4fa222e95f7d0c5a8558ad20b545791982825ddfaeae7051408834"
  },
  "kernelspec": {
   "display_name": "Python 3.9.5 64-bit",
   "language": "python",
   "name": "python3"
  },
  "language_info": {
   "codemirror_mode": {
    "name": "ipython",
    "version": 3
   },
   "file_extension": ".py",
   "mimetype": "text/x-python",
   "name": "python",
   "nbconvert_exporter": "python",
   "pygments_lexer": "ipython3",
   "version": "3.9.5"
  },
  "orig_nbformat": 4
 },
 "nbformat": 4,
 "nbformat_minor": 2
}
