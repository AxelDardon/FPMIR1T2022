{
 "cells": [
  {
   "cell_type": "code",
   "execution_count": 2,
   "metadata": {},
   "outputs": [
    {
     "name": "stdout",
     "output_type": "stream",
     "text": [
      "Hola, te envio un saludo Stanly en la fecha: 2022-02-03\n"
     ]
    }
   ],
   "source": [
    "from datetime import datetime\n",
    "\n",
    "NombrePersona = input(\"Porfavor ingrese su nombre:\")\n",
    "\n",
    "print(\"Hola, te envio un saludo\",NombrePersona,\"en la fecha:\",datetime.today().strftime(\"%Y-%m-%d\"))"
   ]
  }
 ],
 "metadata": {
  "interpreter": {
   "hash": "7be441ddcb4fa222e95f7d0c5a8558ad20b545791982825ddfaeae7051408834"
  },
  "kernelspec": {
   "display_name": "Python 3.9.5 64-bit",
   "language": "python",
   "name": "python3"
  },
  "language_info": {
   "codemirror_mode": {
    "name": "ipython",
    "version": 3
   },
   "file_extension": ".py",
   "mimetype": "text/x-python",
   "name": "python",
   "nbconvert_exporter": "python",
   "pygments_lexer": "ipython3",
   "version": "3.9.5"
  },
  "orig_nbformat": 4
 },
 "nbformat": 4,
 "nbformat_minor": 2
}
