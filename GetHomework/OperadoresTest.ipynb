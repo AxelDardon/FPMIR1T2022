{
 "cells": [
  {
   "cell_type": "markdown",
   "metadata": {},
   "source": [
    "# Operadores"
   ]
  },
  {
   "cell_type": "markdown",
   "metadata": {},
   "source": [
    "## Operadores relacionales"
   ]
  },
  {
   "cell_type": "code",
   "execution_count": 9,
   "metadata": {},
   "outputs": [
    {
     "name": "stdout",
     "output_type": "stream",
     "text": [
      "El resultado de  1 == 1  es:  True\n",
      "El resultado de  1 != 1  es:  False\n",
      "El resultado de  1 > 1  es:  False\n",
      "El resultado de  1 < 1  es:  False\n",
      "El resultado de  1 >= 1  es:  True\n",
      "El resultado de  1 <= 1  es:  True\n"
     ]
    }
   ],
   "source": [
    "Num1=int(input(\"Ingrese numero 1: \"))\n",
    "Num2=int(input(\"Ingrese numero 2: \"))\n",
    "\n",
    "print(\"El resultado de \",Num1,\"==\",Num2,\" es: \",(Num1==Num2))\n",
    "print(\"El resultado de \",Num1,\"!=\",Num2,\" es: \",(Num1!=Num2))\n",
    "print(\"El resultado de \",Num1,\">\",Num2,\" es: \",(Num1>Num2))\n",
    "print(\"El resultado de \",Num1,\"<\",Num2,\" es: \",(Num1<Num2))\n",
    "print(\"El resultado de \",Num1,\">=\",Num2,\" es: \",(Num1>=Num2))\n",
    "print(\"El resultado de \",Num1,\"<=\",Num2,\" es: \",(Num1<=Num2))"
   ]
  },
  {
   "cell_type": "markdown",
   "metadata": {},
   "source": [
    "Operadores lógicos"
   ]
  },
  {
   "cell_type": "code",
   "execution_count": 10,
   "metadata": {},
   "outputs": [
    {
     "name": "stdout",
     "output_type": "stream",
     "text": [
      "Ambos números 1 y 1 son pares: False\n",
      "Al menos uno de los números 1 y/o 1 es par: False\n",
      "el Not Ambos números 1 y 1 son pares: True\n"
     ]
    }
   ],
   "source": [
    "Num1=int(input(\"Ingrese numero 1: \"))\n",
    "Num2=int(input(\"Ingrese numero 2: \"))\n",
    "\n",
    "print(\"Ambos números\",Num1,\"y\",Num2,\"son pares:\",((Num1%2==0)and(Num2%2==0)))\n",
    "print(\"Al menos uno de los números\",Num1,\"y/o\",Num2,\"es par:\",((Num1%2==0)or(Num2%2==0)))\n",
    "print(\"el Not Ambos números\",Num1,\"y\",Num2,\"son pares:\",not((Num1%2==0)and(Num2%2==0)))"
   ]
  },
  {
   "cell_type": "markdown",
   "metadata": {},
   "source": [
    "## Operadores de Identidad"
   ]
  },
  {
   "cell_type": "code",
   "execution_count": 11,
   "metadata": {},
   "outputs": [
    {
     "name": "stdout",
     "output_type": "stream",
     "text": [
      "True\n",
      "True\n",
      "La comparacion is: False\n",
      "La comparacion is not: True\n"
     ]
    }
   ],
   "source": [
    "Num1=int(input(\"Ingrese numero 1: \"))\n",
    "Num2=int(input(\"Ingrese numero 2: \"))\n",
    "\n",
    "lista1=list(range(1,Num1+1))\n",
    "lista2=list(range(1,Num2+1))\n",
    "\n",
    "st1='Hola'\n",
    "st2='Hola'\n",
    "print(st1 is st2)\n",
    "st3=\"Hola\"\n",
    "st4=\"Hola\"\n",
    "print(st3 is st4)\n",
    "\n",
    "print(\"La comparacion is:\",(lista1 is lista2))\n",
    "print(\"La comparacion is not:\",(lista1 is not lista2))"
   ]
  },
  {
   "cell_type": "code",
   "execution_count": null,
   "metadata": {},
   "outputs": [],
   "source": []
  }
 ],
 "metadata": {
  "interpreter": {
   "hash": "d6d26c4a8cda67e52767f479a94914ecbf8860f1cd77e1ec7bc49812f9677b27"
  },
  "kernelspec": {
   "display_name": "Python 3.10.2 64-bit",
   "language": "python",
   "name": "python3"
  },
  "language_info": {
   "codemirror_mode": {
    "name": "ipython",
    "version": 3
   },
   "file_extension": ".py",
   "mimetype": "text/x-python",
   "name": "python",
   "nbconvert_exporter": "python",
   "pygments_lexer": "ipython3",
   "version": "3.10.2"
  },
  "orig_nbformat": 4
 },
 "nbformat": 4,
 "nbformat_minor": 2
}
